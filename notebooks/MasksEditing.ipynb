{
 "cells": [
  {
   "cell_type": "code",
   "execution_count": 1,
   "metadata": {},
   "outputs": [],
   "source": [
    "import numpy as np\n",
    "import cv2 as cv\n",
    "import matplotlib.pyplot as plt\n",
    "import os\n",
    "from PIL import Image\n",
    "from shutil import copyfile"
   ]
  },
  {
   "cell_type": "markdown",
   "metadata": {},
   "source": [
    "# Data Reading"
   ]
  },
  {
   "cell_type": "code",
   "execution_count": 2,
   "metadata": {},
   "outputs": [],
   "source": [
    "COMMON_PART = '/home/bohdan/histologie/data/doctor_annotations/'\n",
    "PATH_TO_FLOODFILLED_MASKS = os.path.join(COMMON_PART, 'floodfilled_masks')\n",
    "PATH_TO_BINARY_MASKS = os.path.join(COMMON_PART, 'visible_binary_masks')"
   ]
  },
  {
   "cell_type": "code",
   "execution_count": 3,
   "metadata": {},
   "outputs": [],
   "source": [
    "floodfilled_mask_names = os.listdir(PATH_TO_FLOODFILLED_MASKS)\n",
    "binary_mask_names = os.listdir(PATH_TO_BINARY_MASKS)\n"
   ]
  },
  {
   "cell_type": "code",
   "execution_count": 4,
   "metadata": {},
   "outputs": [],
   "source": [
    "binary_masks = [cv.imread(os.path.join(PATH_TO_BINARY_MASKS, binary_mask_name))[..., ::-1][:,:,0] \n",
    "                for binary_mask_name in binary_mask_names]\n",
    "# floodfilled_masks = [cv.imread(os.path.join(PATH_TO_FLOODFILLED_MASKS, floodfilled_mask_name))[..., ::-1][:,:,0] \n",
    "#                 for floodfilled_mask_name in binary_mask_names]"
   ]
  },
  {
   "cell_type": "markdown",
   "metadata": {},
   "source": [
    "# Lumen Corection\n",
    "### a) Lumen or tromboza otherwise"
   ]
  },
  {
   "cell_type": "code",
   "execution_count": null,
   "metadata": {},
   "outputs": [],
   "source": [
    "lument_tromboza_otherwise = [\n",
    "    '10251_14_226.png',\n",
    "    '10251_14_228.png',\n",
    "    '10251_14_230.png',\n",
    "    '10251_14_232.png',\n",
    "    '10251_14_236.png',\n",
    "    '10251_14_238.png',\n",
    "    '10251_14_2909.png',\n",
    "    '10251_14_2911.png',\n",
    "    '10251_14_2913.png',\n",
    "    '10251_14_2917.png',\n",
    "    '10764_15_352.png',\n",
    "    '10764_15_3038.png',\n",
    "    '10772_15_3126.png', # strange\n",
    "    '10772_15_3128.png', # strange\n",
    "    '11191_14_686.png',\n",
    "    '2917_15_690.png',\n",
    "    '2917_15_692.png',\n",
    "    '2917_15_3401.png',\n",
    "    '2917_15_3403.png',\n",
    "    '2917_15_3407.png',\n",
    "    '2917_15_3409.png',\n",
    "    '10772_15_436.png',\n",
    "    #---- Cases, when need to correct the boundaries ---------\n",
    "#     '10764_15_356.png',\n",
    "#     '10764_15_3042.png',\n",
    "#     '11191_14_672.png',\n",
    "#     '11191_14_678.png',\n",
    "#     '11191_14_3386.png',\n",
    "#     '11191_14_3388.png',\n",
    "#     '516_15_4330.png',\n",
    "#     '516_15_4336.png',\n",
    "#     '3315_15_2056.png',\n",
    "#     '3315_15_2072.png',\n",
    "#     '9447_14_1763.png',\n",
    "#     '9447_14_4531.png',\n",
    "#     '9447_14_4537.png'\n",
    "]"
   ]
  },
  {
   "cell_type": "code",
   "execution_count": null,
   "metadata": {
    "scrolled": false
   },
   "outputs": [],
   "source": [
    "def concatenate_binary_and_original(binary_img, original):\n",
    "    new_result = np.copy(original)\n",
    "    new_result[new_result == 6] = 9\n",
    "    kernel = np.ones((5,5))\n",
    "    opened_binary_img = cv.morphologyEx(binary_img, cv.MORPH_OPEN, kernel)\n",
    "    replaced_area = np.logical_and(new_result == 9,binary_img).astype('uint8')\n",
    "    replaced_area[replaced_area==1] = 6\n",
    "    new_result[replaced_area == 6] = 6\n",
    "    return new_result"
   ]
  },
  {
   "cell_type": "code",
   "execution_count": null,
   "metadata": {
    "scrolled": false
   },
   "outputs": [],
   "source": [
    "PATH_TO_SAVE_MODIFIED_LUMEN = '/home/bohdan/histologie/data/doctor_annotations/masks_corrections/lumen_correction/'\n",
    "\n",
    "for i in range(len(floodfilled_masks)):\n",
    "    if binary_mask_names[i] in lument_tromboza_otherwise:\n",
    "        Image.fromarray(concatenate_binary_and_original(binary_masks[i], floodfilled_masks[i])).save(os.path.join(PATH_TO_SAVE_MODIFIED_LUMEN, binary_mask_names[i]))\n"
   ]
  },
  {
   "cell_type": "code",
   "execution_count": null,
   "metadata": {},
   "outputs": [],
   "source": []
  },
  {
   "cell_type": "markdown",
   "metadata": {},
   "source": [
    "### b) Copy the rest of the images"
   ]
  },
  {
   "cell_type": "code",
   "execution_count": null,
   "metadata": {},
   "outputs": [],
   "source": [
    "for i in range(len(binary_mask_names)):\n",
    "    if binary_mask_names[i] not in lument_tromboza_otherwise:\n",
    "        copyfile(\n",
    "                os.path.join(COMMON_PART, 'colored_masks', binary_mask_names[i]), \n",
    "                os.path.join(COMMON_PART, 'masks_corrections/lumen_correction/kik',binary_mask_names[i])\n",
    "        )"
   ]
  },
  {
   "cell_type": "markdown",
   "metadata": {},
   "source": [
    "# Ateroma tkan Correction"
   ]
  },
  {
   "cell_type": "code",
   "execution_count": null,
   "metadata": {},
   "outputs": [],
   "source": [
    "PATH_TO_LUMEN_EDITED = '/home/bohdan/histologie/data/doctor_annotations/masks_corrections/lumen_correction/unvisible_masks/'\n",
    "lumen_edited_names = os.listdir(PATH_TO_LUMEN_EDITED)\n",
    "lumen_edited_imgs = [cv.imread(os.path.join(PATH_TO_LUMEN_EDITED, binary_mask_name))[..., ::-1][:,:,0] \n",
    "                for binary_mask_name in binary_mask_names]"
   ]
  },
  {
   "cell_type": "code",
   "execution_count": null,
   "metadata": {},
   "outputs": [],
   "source": [
    "def concatenate_binary_and_original_tromboza(binary_img, original, class_to_substitute):\n",
    "    new_result = np.copy(original)\n",
    "    kernel = np.ones((5,5))\n",
    "    opened_binary_img = cv.morphologyEx(binary_img, cv.MORPH_OPEN, kernel)\n",
    "    replaced_area = np.logical_and(new_result == class_to_substitute,binary_img).astype('uint8')\n",
    "    replaced_area[replaced_area==1] = class_to_substitute\n",
    "    new_result[new_result==class_to_substitute]=0\n",
    "    new_result[replaced_area == class_to_substitute] = class_to_substitute\n",
    "    return new_result"
   ]
  },
  {
   "cell_type": "code",
   "execution_count": null,
   "metadata": {
    "scrolled": true
   },
   "outputs": [],
   "source": [
    "edited_ateroma = [\n",
    "    concatenate_binary_and_original_tromboza(binary_masks[i],lumen_edited_imgs[i],1) for \n",
    "    i in range(len(binary_mask_names))]"
   ]
  },
  {
   "cell_type": "code",
   "execution_count": null,
   "metadata": {},
   "outputs": [],
   "source": [
    "PATH_TO_SAVE_ATEROMA = '/home/bohdan/histologie/data/doctor_annotations/masks_corrections/ateroma_corection/unvisible/'\n",
    "\n",
    "for i in range(len(binary_mask_names)):\n",
    "    Image.fromarray(edited_ateroma[i]).save(os.path.join(PATH_TO_SAVE_ATEROMA, binary_mask_names[i]))\n"
   ]
  },
  {
   "cell_type": "markdown",
   "metadata": {},
   "source": [
    "# Fibro Correction"
   ]
  },
  {
   "cell_type": "code",
   "execution_count": null,
   "metadata": {},
   "outputs": [],
   "source": [
    "PATH_TO_ATEROMA = '/home/bohdan/histologie/data/doctor_annotations/masks_corrections/ateroma_corection/unvisible/'\n",
    "ateroma_edited_names = os.listdir(PATH_TO_ATEROMA)\n",
    "ateroma_edited_imgs = [cv.imread(os.path.join(PATH_TO_ATEROMA, binary_mask_name))[..., ::-1][:,:,0] \n",
    "                for binary_mask_name in binary_mask_names]"
   ]
  },
  {
   "cell_type": "code",
   "execution_count": null,
   "metadata": {},
   "outputs": [],
   "source": [
    "edited_fibro = [\n",
    "    concatenate_binary_and_original_tromboza(binary_masks[i],ateroma_edited_imgs[i],2) for \n",
    "    i in range(len(binary_mask_names))]"
   ]
  },
  {
   "cell_type": "code",
   "execution_count": null,
   "metadata": {},
   "outputs": [],
   "source": [
    "PATH_TO_SAVE_FIBRO = '/home/bohdan/histologie/data/doctor_annotations/masks_corrections/fibro_correction/unvisible/'\n",
    "\n",
    "for i in range(len(binary_mask_names)):\n",
    "    Image.fromarray(edited_fibro[i]).save(os.path.join(PATH_TO_SAVE_FIBRO, binary_mask_names[i]))\n"
   ]
  },
  {
   "cell_type": "markdown",
   "metadata": {},
   "source": [
    "# Unknown correction"
   ]
  },
  {
   "cell_type": "code",
   "execution_count": 5,
   "metadata": {},
   "outputs": [],
   "source": [
    "PATH_TO_FIBRO = '/home/bohdan/histologie/data/doctor_annotations/masks_corrections/fibro_correction/unvisible/'\n",
    "fibro_edited_names = os.listdir(PATH_TO_FIBRO)\n",
    "fibro_edited_imgs = [cv.imread(os.path.join(PATH_TO_FIBRO, binary_mask_name))[..., ::-1][:,:,0] \n",
    "                for binary_mask_name in binary_mask_names]"
   ]
  },
  {
   "cell_type": "code",
   "execution_count": 18,
   "metadata": {},
   "outputs": [],
   "source": [
    "def add_unknown_to_tissue_areas(img, binary_img):\n",
    "    new_result = np.copy(img)\n",
    "    kernel = np.ones((5,5))\n",
    "    opened_binary_img = cv.morphologyEx(np.copy(binary_img), cv.MORPH_OPEN, kernel)\n",
    "    opened_binary_img[new_result != 0] = 0\n",
    "    new_result[opened_binary_img!=0] = 13\n",
    "    return new_result"
   ]
  },
  {
   "cell_type": "code",
   "execution_count": 21,
   "metadata": {},
   "outputs": [],
   "source": [
    "edited_unknown = [add_unknown_to_tissue_areas(fibro_edited_imgs[i], binary_masks[i]) \n",
    "    for i in range(len(binary_mask_names))]"
   ]
  },
  {
   "cell_type": "code",
   "execution_count": 26,
   "metadata": {},
   "outputs": [],
   "source": [
    "PATH_TO_SAVE_UNKNOWN = '/home/bohdan/histologie/data/doctor_annotations/masks_corrections/unknown_correction/unvisible/'\n",
    "\n",
    "for i in range(len(binary_mask_names)):\n",
    "    Image.fromarray(edited_unknown[i]).save(os.path.join(PATH_TO_SAVE_UNKNOWN, binary_mask_names[i]))\n"
   ]
  },
  {
   "cell_type": "markdown",
   "metadata": {},
   "source": [
    "# Make Unknown the rest of classes\n"
   ]
  },
  {
   "cell_type": "code",
   "execution_count": 6,
   "metadata": {},
   "outputs": [],
   "source": [
    "PATH_TO_UNKNOWN = '/home/bohdan/histologie/data/doctor_annotations/masks_corrections/unknown_correction/unvisible/'\n",
    "unknown_edited_names = os.listdir(PATH_TO_UNKNOWN)\n",
    "unknown_edited_imgs = [cv.imread(os.path.join(PATH_TO_UNKNOWN, binary_mask_name))[..., ::-1][:,:,0] \n",
    "                for binary_mask_name in binary_mask_names]"
   ]
  },
  {
   "cell_type": "code",
   "execution_count": 58,
   "metadata": {},
   "outputs": [],
   "source": [
    "def reset_rest_classes_to_unknown(img):\n",
    "    result = np.copy(img)\n",
    "    classes_to_unkwnown = np.isin(result,[3,4,5,7,8,10,11,12])\n",
    "    result[classes_to_unkwnown] = 13\n",
    "    return result"
   ]
  },
  {
   "cell_type": "code",
   "execution_count": 65,
   "metadata": {},
   "outputs": [],
   "source": [
    "edited_rest_classes = [reset_rest_classes_to_unknown(img) for img in unknown_edited_imgs]"
   ]
  },
  {
   "cell_type": "code",
   "execution_count": 66,
   "metadata": {},
   "outputs": [],
   "source": [
    "PATH_TO_SAVE_REST = '/home/bohdan/histologie/data/doctor_annotations/masks_corrections/final_corrections_5/unvisible'\n",
    "\n",
    "for i in range(len(binary_mask_names)):\n",
    "    Image.fromarray(edited_rest_classes[i]).save(os.path.join(PATH_TO_SAVE_REST, binary_mask_names[i]))\n"
   ]
  },
  {
   "cell_type": "code",
   "execution_count": null,
   "metadata": {},
   "outputs": [],
   "source": []
  }
 ],
 "metadata": {
  "kernelspec": {
   "display_name": "Python 3",
   "language": "python",
   "name": "python3"
  },
  "language_info": {
   "codemirror_mode": {
    "name": "ipython",
    "version": 3
   },
   "file_extension": ".py",
   "mimetype": "text/x-python",
   "name": "python",
   "nbconvert_exporter": "python",
   "pygments_lexer": "ipython3",
   "version": "3.6.3"
  }
 },
 "nbformat": 4,
 "nbformat_minor": 2
}
