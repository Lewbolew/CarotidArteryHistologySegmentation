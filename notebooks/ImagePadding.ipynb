{
 "cells": [
  {
   "cell_type": "code",
   "execution_count": 1,
   "metadata": {},
   "outputs": [],
   "source": [
    "import numpy as np\n",
    "import os\n",
    "import cv2\n",
    "from skimage.util import pad\n",
    "import matplotlib.pyplot as plt\n",
    "from PIL import Image"
   ]
  },
  {
   "cell_type": "markdown",
   "metadata": {},
   "source": [
    "# Data Loading"
   ]
  },
  {
   "cell_type": "code",
   "execution_count": 8,
   "metadata": {},
   "outputs": [],
   "source": [
    "PATH_X = '/home/bohdan/histologie/data/doctor_annotations/x/'\n",
    "PATH_Y = '/home/bohdan/histologie/data/doctor_annotations/masks_corrections/final_corrections_5/unvisible'\n",
    "x_names = os.listdir(PATH_X)\n",
    "y_names = os.listdir(PATH_Y)"
   ]
  },
  {
   "cell_type": "code",
   "execution_count": 9,
   "metadata": {},
   "outputs": [],
   "source": [
    "# imgs = [cv2.imread(os.path.join(PATH_X, x_names[i]))[..., ::-1] for i in range(len(x_names))]\n",
    "masks = [cv2.imread(os.path.join(PATH_Y, x_names[i])) for i in range(len(x_names))]"
   ]
  },
  {
   "cell_type": "code",
   "execution_count": null,
   "metadata": {},
   "outputs": [],
   "source": [
    "max([x.shape[0] for x in imgs if x.shape[0] > 2000])"
   ]
  },
  {
   "cell_type": "code",
   "execution_count": 10,
   "metadata": {},
   "outputs": [],
   "source": [
    "def pad_to_needed_sides(img, needed_size_of_one_side, is_mask=False):\n",
    "    needed_padding = needed_size_of_one_side - img.shape[0]\n",
    "    one_side_padding = needed_padding // 2\n",
    "    rest_of_padding = needed_padding % 2\n",
    "    padding = [one_side_padding + rest_of_padding, one_side_padding, \n",
    "           one_side_padding, one_side_padding + rest_of_padding]\n",
    "    if is_mask:\n",
    "        \n",
    "        result = cv2.copyMakeBorder(\n",
    "            img, padding[0], padding[1], padding[2], padding[3],cv2.BORDER_CONSTANT,value=0)\n",
    "    else:\n",
    "        result = cv2.copyMakeBorder(\n",
    "            img, padding[0], padding[1], padding[2], padding[3],cv2.BORDER_REPLICATE)\n",
    "            \n",
    "        \n",
    "    return result"
   ]
  },
  {
   "cell_type": "code",
   "execution_count": 11,
   "metadata": {},
   "outputs": [],
   "source": [
    "# final_imgs = [pad_to_needed_sides(x, 3174) for x in imgs]\n",
    "final_masks = [pad_to_needed_sides(x, 3174, True) for x in masks]"
   ]
  },
  {
   "cell_type": "code",
   "execution_count": 13,
   "metadata": {},
   "outputs": [],
   "source": [
    "PATH_TO_SAVE_RES = '/home/bohdan/histologie/data/doctor_annotations/preprocessed/y/'\n",
    "\n",
    "for i in range(len(x_names)):\n",
    "    Image.fromarray(final_masks[i]).save(os.path.join(PATH_TO_SAVE_RES, x_names[i]))\n"
   ]
  },
  {
   "cell_type": "code",
   "execution_count": null,
   "metadata": {},
   "outputs": [],
   "source": []
  }
 ],
 "metadata": {
  "kernelspec": {
   "display_name": "Python 3",
   "language": "python",
   "name": "python3"
  },
  "language_info": {
   "codemirror_mode": {
    "name": "ipython",
    "version": 3
   },
   "file_extension": ".py",
   "mimetype": "text/x-python",
   "name": "python",
   "nbconvert_exporter": "python",
   "pygments_lexer": "ipython3",
   "version": "3.6.3"
  }
 },
 "nbformat": 4,
 "nbformat_minor": 2
}
