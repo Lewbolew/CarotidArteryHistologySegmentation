{
 "cells": [
  {
   "cell_type": "code",
   "execution_count": 1,
   "metadata": {},
   "outputs": [],
   "source": [
    "import cv2 as cv\n",
    "import matplotlib.pyplot as plt\n",
    "import os\n",
    "import sys\n",
    "import json\n",
    "import datetime\n",
    "import numpy as np\n",
    "import skimage.draw\n",
    "import cv2 as cv\n",
    "from skimage.io import imread, imsave\n",
    "import numpy as np\n",
    "import PIL"
   ]
  },
  {
   "cell_type": "raw",
   "metadata": {},
   "source": [
    "# USEFUL CODE EXAMPLES\n",
    "\n",
    "with open(json_location, \"w\") as write_file:\n",
    "    json.dump(jn, write_file) # edit JSON file\n",
    "    \n",
    "for i in os.listdir('/home/bohdan/histologie/data/masks/')[:-1]:\n",
    "    json_read]]]er('/home/bohdan/histologie/data/masks/' + i) # walk through the files \n"
   ]
  },
  {
   "cell_type": "code",
   "execution_count": 3,
   "metadata": {},
   "outputs": [],
   "source": [
    "def json_reader(json_location):\n",
    "    \"\"\"\n",
    "    Read json file and return dict object in convenient for us format\n",
    "    \"\"\"\n",
    "    with open(json_location) as a_f:\n",
    "        jn = json.load(a_f)\n",
    "    return jn \n",
    "\n",
    "def mask_generator(mask_json, path_to_save, img_height=3840, img_width=5760):\n",
    "    \"\"\"\n",
    "    Generate mask(png image) from a give json description and save to a given path. \n",
    "    \n",
    "    Example:\n",
    "    \n",
    "        for i in os.listdir(json_masks_path)[:-1]:\n",
    "            json_mask = json_reader(json_masks_path + i) # walk \n",
    "            mask_generator(json_mask,path_to_save)\n",
    "\n",
    "    \"\"\"\n",
    "    regions = mask_json['regions']\n",
    "    \n",
    "    img = np.zeros([img_height, img_width, 3],dtype=np.uint8)    \n",
    "    for region in regions:\n",
    "        curr_shape_attributes = region['shape_attributes']\n",
    "        all_x_points = curr_shape_attributes['all_points_x']\n",
    "        all_y_points = curr_shape_attributes['all_points_y']\n",
    "        \n",
    "        rr, cc = skimage.draw.polygon(all_y_points,\n",
    "                                          all_x_points)\n",
    "        \n",
    "        '''\n",
    "        cut is the attribute which I gave while segmenting. If cut is 0 - it is the tissue,\n",
    "        and 1 - we should cut the tissue. It was done because of limitation of the segmentation\n",
    "        tool.\n",
    "        '''\n",
    "        is_cut = int(region['region_attributes']['cut'])\n",
    "        if not is_cut:\n",
    "            img[rr,cc] = 255\n",
    "        else:\n",
    "            img[rr,cc] = 0 \n",
    "\n",
    "    imsave(os.path.join(path_to_save, mask_json['filename']), img)\n",
    "\n",
    "def concat_images(imga, imgb):\n",
    "    \"\"\"\n",
    "    Combines two color image ndarrays side-by-side.\n",
    "    \"\"\"\n",
    "    ha,wa = imga.shape[:2]\n",
    "    hb,wb = imgb.shape[:2]\n",
    "    max_height = np.max([ha, hb])\n",
    "    total_width = wa+wb\n",
    "    new_img = np.zeros(shape=(max_height, total_width, 3))\n",
    "    new_img[:ha,:wa]=imga\n",
    "    new_img[:hb,wa:wa+wb]=imgb\n",
    "    return new_img\n",
    "\n",
    "#     print(imgs_comb.shape)\n",
    "#     plt.imshow(imgs_comb)\n",
    "# combine_2_images_horizontally(imgs[0], masks[0])"
   ]
  },
  {
   "cell_type": "code",
   "execution_count": 4,
   "metadata": {},
   "outputs": [],
   "source": [
    "JSON_MASKS_PATH = '/home/bohdan/histologie/data/masksJSON/'\n",
    "PATH_TO_SAVE = '/home/bohdan/histologie/data/masks/'\n",
    "MASKS_PATH = '/home/bohdan/histologie/data/masks/'\n",
    "IMG_PATH = '/home/bohdan/histologie/data/images/'\n",
    "list_im = os.listdir(IMG_PATH)"
   ]
  },
  {
   "cell_type": "code",
   "execution_count": null,
   "metadata": {},
   "outputs": [],
   "source": []
  },
  {
   "cell_type": "markdown",
   "metadata": {},
   "source": [
    "### Data reading"
   ]
  },
  {
   "cell_type": "code",
   "execution_count": 5,
   "metadata": {},
   "outputs": [],
   "source": [
    "imgs = [PIL.Image.open(os.path.join(IMG_PATH,i)) for  i in list_im]\n",
    "masks = [PIL.Image.open(os.path.join(MASKS_PATH,i)) for i in list_im]"
   ]
  },
  {
   "cell_type": "markdown",
   "metadata": {},
   "source": [
    "### Concatenating images"
   ]
  },
  {
   "cell_type": "code",
   "execution_count": 6,
   "metadata": {},
   "outputs": [
    {
     "name": "stderr",
     "output_type": "stream",
     "text": [
      "/home/bohdan/anaconda3/lib/python3.6/site-packages/skimage/util/dtype.py:122: UserWarning: Possible precision loss when converting from float64 to uint8\n",
      "  .format(dtypeobj_in, dtypeobj_out))\n"
     ]
    }
   ],
   "source": [
    "for i in range(len(imgs)):\n",
    "    comb_img = concat_images(np.asarray(imgs[i]), np.asarray(masks[i]))\n",
    "    imsave(os.path.join('/home/bohdan/histologie/data/combinedImages', list_im[i]),comb_img / comb_img.max())"
   ]
  },
  {
   "cell_type": "markdown",
   "metadata": {},
   "source": [
    "### Merging images"
   ]
  },
  {
   "cell_type": "code",
   "execution_count": null,
   "metadata": {},
   "outputs": [],
   "source": [
    "for i in range(len(imgs)):\n",
    "    comb_img = concat_images(np.asarray(imgs[i]), np.asarray(masks[i]))\n",
    "    merged_img = cv.addWeighted(np.asarray(imgs[i]), 1, np.asarray(masks[i]), 0.3, 1)    \n",
    "    imsave(os.path.join('/home/bohdan/histologie/data/mergedImages', list_im[i]),merged_img)"
   ]
  },
  {
   "cell_type": "code",
   "execution_count": null,
   "metadata": {},
   "outputs": [],
   "source": []
  },
  {
   "cell_type": "code",
   "execution_count": null,
   "metadata": {},
   "outputs": [],
   "source": []
  }
 ],
 "metadata": {
  "kernelspec": {
   "display_name": "Python 3",
   "language": "python",
   "name": "python3"
  },
  "language_info": {
   "codemirror_mode": {
    "name": "ipython",
    "version": 3
   },
   "file_extension": ".py",
   "mimetype": "text/x-python",
   "name": "python",
   "nbconvert_exporter": "python",
   "pygments_lexer": "ipython3",
   "version": "3.6.3"
  }
 },
 "nbformat": 4,
 "nbformat_minor": 2
}
