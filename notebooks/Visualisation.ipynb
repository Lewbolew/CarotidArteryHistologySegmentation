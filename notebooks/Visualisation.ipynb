{
 "cells": [
  {
   "cell_type": "code",
   "execution_count": 1,
   "metadata": {},
   "outputs": [],
   "source": [
    "import numpy as np\n",
    "import cv2 as cv\n",
    "import os\n",
    "import tqdm\n",
    "import matplotlib.pyplot as plt\n",
    "from PIL import Image"
   ]
  },
  {
   "cell_type": "markdown",
   "metadata": {},
   "source": [
    "# Data Loading"
   ]
  },
  {
   "cell_type": "code",
   "execution_count": 3,
   "metadata": {},
   "outputs": [],
   "source": [
    "COMMON_PART = '/home/bohdan/histologie/data/doctor_annotations/'\n",
    "PATH_TO_COLORFUL_MASKS = os.path.join(COMMON_PART, 'preprocessed/vis/visible/')\n",
    "PATH_TO_ORIGINAL_IMAGES = os.path.join(COMMON_PART, 'x')\n",
    "PATH_TO_BINARY_MASKS = os.path.join(COMMON_PART, 'visible_binary_masks')\n",
    "PATH_TO_COLORFUL_CONTOURS = os.path.join(COMMON_PART, 'colored_contours')\n",
    "PATH_TO_EDITED_MASKS = os.path.join(COMMON_PART, 'preprocessed/y')\n",
    "PATH_TO_EDITED_IMGS = os.path.join(COMMON_PART, 'preprocessed/x')"
   ]
  },
  {
   "cell_type": "code",
   "execution_count": 4,
   "metadata": {},
   "outputs": [],
   "source": [
    "colorful_mask_names = os.listdir(PATH_TO_COLORFUL_MASKS)\n",
    "original_img_names = os.listdir(PATH_TO_ORIGINAL_IMAGES)\n",
    "binary_mask_names = os.listdir(PATH_TO_BINARY_MASKS)\n",
    "colored_contours_names = os.listdir(PATH_TO_COLORFUL_CONTOURS)\n",
    "edited_masks_names = os.listdir(PATH_TO_EDITED_MASKS)\n",
    "edited_imgs_names = os.listdir(PATH_TO_EDITED_IMGS)"
   ]
  },
  {
   "cell_type": "code",
   "execution_count": 5,
   "metadata": {},
   "outputs": [],
   "source": [
    "# original_images = [cv.imread(os.path.join(PATH_TO_ORIGINAL_IMAGES, original_img_name))[..., ::-1]\n",
    "#                    for original_img_name in colorful_mask_names]\n",
    "colorful_masks = [cv.imread(os.path.join(PATH_TO_COLORFUL_MASKS, colorful_mask_name))[..., ::-1]\n",
    "                  for colorful_mask_name in colorful_mask_names]\n",
    "# binary_masks = [cv.imread(os.path.join(PATH_TO_BINARY_MASKS, binary_mask_name))[..., ::-1] \n",
    "#                 for binary_mask_name in colorful_mask_names]\n",
    "# colored_contours = [cv.imread(os.path.join(PATH_TO_COLORFUL_CONTOURS, colored_contour_name))[..., ::-1]\n",
    "#                    for colored_contour_name in colorful_mask_names]\n",
    "\n",
    "edited_imgs = [cv.imread(os.path.join(PATH_TO_EDITED_IMGS, edited_img_name))[..., ::-1]\n",
    "                   for edited_img_name in edited_imgs_names]\n",
    "edited_masks = [cv.imread(os.path.join(PATH_TO_EDITED_MASKS, edited_mask_name))[..., ::-1]\n",
    "                   for edited_mask_name in edited_masks_names]\n"
   ]
  },
  {
   "cell_type": "markdown",
   "metadata": {},
   "source": [
    "# Original imgs with doctors contours VS Floodfilled"
   ]
  },
  {
   "cell_type": "code",
   "execution_count": null,
   "metadata": {},
   "outputs": [],
   "source": [
    "PATH_TO_SAVE = '/home/bohdan/histologie/data/doctor_annotations/visualistaion/orig_imgs_contours_vs_floodfilled'\n",
    "if not os.path.exists(PATH_TO_SAVE):\n",
    "    os.mkdir(PATH_TO_SAVE)"
   ]
  },
  {
   "cell_type": "code",
   "execution_count": null,
   "metadata": {},
   "outputs": [],
   "source": [
    "for i in range(len(colored_contours_names)):\n",
    "    cur_merged_img = cv.add(colored_contours[i], original_images[i])\n",
    "    cur_merged_img = np.concatenate((cur_merged_img, colorful_masks[i]), axis=1)\n",
    "    Image.fromarray(cur_merged_img).save(os.path.join(PATH_TO_SAVE, colorful_mask_names[i]))"
   ]
  },
  {
   "cell_type": "markdown",
   "metadata": {},
   "source": [
    "# Original imgs with binary mask contours"
   ]
  },
  {
   "cell_type": "markdown",
   "metadata": {},
   "source": [
    "## Binary mask preprocessing"
   ]
  },
  {
   "cell_type": "code",
   "execution_count": null,
   "metadata": {
    "scrolled": true
   },
   "outputs": [],
   "source": [
    "kernel = np.ones((10,10), 'uint8')\n",
    "for i in range(len(binary_mask_names) - 10):\n",
    "#     morphology = cv.morphologyEx(np.copy(binary_masks[i]), cv.MORPH_OPEN, kernel)\n",
    "    plt.figure(figsize=(10,10))\n",
    "#     plt.subplot(1,2,1)\n",
    "    plt.title(binary_mask_names[i], fontweight='bold', fontsize=30)\n",
    "    plt.imshow(original_img_names[i])\n",
    "    plt.subplot(1,2,2)\n",
    "    plt.imshow(binary_masks[i])"
   ]
  },
  {
   "cell_type": "markdown",
   "metadata": {},
   "source": [
    "## Visualisation"
   ]
  },
  {
   "cell_type": "code",
   "execution_count": null,
   "metadata": {},
   "outputs": [],
   "source": [
    "PATH_TO_SAVE = '/home/bohdan/histologie/data/doctor_annotations/visualistaion/orig_imgs_with_binary_mask_contours'\n",
    "if not os.path.exists(PATH_TO_SAVE):\n",
    "    os.mkdir(PATH_TO_SAVE)"
   ]
  },
  {
   "cell_type": "code",
   "execution_count": null,
   "metadata": {
    "scrolled": false
   },
   "outputs": [],
   "source": [
    "kernel = np.ones((10,10), 'uint8')\n",
    "for i in range(len(colorful_mask_names)):\n",
    "    cur_mask = cv.morphologyEx(np.copy(binary_masks[i]), cv.MORPH_OPEN, kernel)\n",
    "    cur_mask = binary_masks[i]\n",
    "    cur_mask = cv.cvtColor(cur_mask, cv.COLOR_RGB2GRAY)\n",
    "    (_, contours, hierarchy) = cv.findContours(cur_mask, cv.RETR_LIST, cv.CHAIN_APPROX_NONE)\n",
    "#     plt.figure(figsize=(20,10))\n",
    "    orig_with_contours = np.copy(original_images[i])\n",
    "    cv.drawContours(orig_with_contours, contours, -1, (255,255,255), 3)\n",
    "    result = np.concatenate((orig_with_contours, cv.cvtColor(cur_mask, cv.COLOR_GRAY2BGR)), axis=1)\n",
    "#     plt.title(original_img_names[i], fontweight='bold', fontsize=30)\n",
    "#     plt.imshow(result)\n",
    "    Image.fromarray(result).save(os.path.join(PATH_TO_SAVE, colorful_mask_names[i]))"
   ]
  },
  {
   "cell_type": "markdown",
   "metadata": {},
   "source": [
    "# Edited Images + contours of edited masks VS edited masks"
   ]
  },
  {
   "cell_type": "code",
   "execution_count": 6,
   "metadata": {},
   "outputs": [],
   "source": [
    "def draw_colorful_contours(img, cur_mask):\n",
    "    cur_img = np.copy(img)\n",
    "    colors = [(255,0,0), (0,255,0), (255,0,127),\n",
    "          (255,0,255),(128,130,128)]\n",
    "    for (ind, cl) in enumerate([1,2,6,9]):\n",
    "        cur_class = cv.cvtColor((cur_mask == cl).astype('uint8'), cv.COLOR_BGR2GRAY)\n",
    "        (_, contours, _) = cv.findContours(cur_class,cv.RETR_LIST, cv.CHAIN_APPROX_NONE)\n",
    "        cv.drawContours(cur_img, contours, -1, colors[ind], 10)\n",
    "    return cur_img"
   ]
  },
  {
   "cell_type": "code",
   "execution_count": 8,
   "metadata": {},
   "outputs": [],
   "source": [
    "PATH_TO_SAVE = '/home/bohdan/histologie/data/doctor_annotations/visualistaion/preprocessed_masks/'\n",
    "for i in range(len(edited_imgs)):\n",
    "    cur_img = np.concatenate((draw_colorful_contours(edited_imgs[i], edited_masks[i]), colorful_masks[i]), axis=1)\n",
    "    Image.fromarray(cur_img).save(os.path.join(PATH_TO_SAVE, edited_imgs_names[i]))"
   ]
  },
  {
   "cell_type": "code",
   "execution_count": null,
   "metadata": {},
   "outputs": [],
   "source": []
  },
  {
   "cell_type": "code",
   "execution_count": null,
   "metadata": {},
   "outputs": [],
   "source": []
  }
 ],
 "metadata": {
  "kernelspec": {
   "display_name": "Python 3",
   "language": "python",
   "name": "python3"
  },
  "language_info": {
   "codemirror_mode": {
    "name": "ipython",
    "version": 3
   },
   "file_extension": ".py",
   "mimetype": "text/x-python",
   "name": "python",
   "nbconvert_exporter": "python",
   "pygments_lexer": "ipython3",
   "version": "3.6.3"
  }
 },
 "nbformat": 4,
 "nbformat_minor": 2
}
